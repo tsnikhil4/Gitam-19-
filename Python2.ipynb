{
  "nbformat": 4,
  "nbformat_minor": 0,
  "metadata": {
    "colab": {
      "name": "Python2.ipynb",
      "version": "0.3.2",
      "provenance": [],
      "collapsed_sections": []
    },
    "kernelspec": {
      "name": "python3",
      "display_name": "Python 3"
    }
  },
  "cells": [
    {
      "cell_type": "code",
      "metadata": {
        "id": "UeTB3FHM1gi7",
        "colab_type": "code",
        "outputId": "7225a590-16dd-448a-b872-9930fa2c508d",
        "colab": {
          "base_uri": "https://localhost:8080/",
          "height": 34
        }
      },
      "source": [
        "def printeven(n):\n",
        "  cnt=0\n",
        "  sum=0\n",
        "  while(cnt!=n):\n",
        "    if(cnt%2==0):\n",
        "      sum=sum+cnt\n",
        "    cnt=cnt+1\n",
        "  return sum\n",
        "   \n",
        "    \n",
        "print(printeven(20))\n",
        "  "
      ],
      "execution_count": 0,
      "outputs": [
        {
          "output_type": "stream",
          "text": [
            "90\n"
          ],
          "name": "stdout"
        }
      ]
    },
    {
      "cell_type": "code",
      "metadata": {
        "id": "oOK63HLA3xBM",
        "colab_type": "code",
        "outputId": "785c415e-e13f-4491-e16a-46cdaa90e06d",
        "colab": {
          "base_uri": "https://localhost:8080/",
          "height": 34
        }
      },
      "source": [
        "def factors(n):\n",
        "  i=1\n",
        "  while(i!=n):\n",
        "    if(n%i==0):\n",
        "      print(i,end=\" \")\n",
        "    i=i+1\n",
        "  return\n",
        "\n",
        "\n",
        "factors(12)\n"
      ],
      "execution_count": 0,
      "outputs": [
        {
          "output_type": "stream",
          "text": [
            "1 2 3 4 6 "
          ],
          "name": "stdout"
        }
      ]
    },
    {
      "cell_type": "code",
      "metadata": {
        "id": "iypb5Kzv70_0",
        "colab_type": "code",
        "outputId": "02251d07-6151-4981-c943-9d4bedeb8398",
        "colab": {
          "base_uri": "https://localhost:8080/",
          "height": 52
        }
      },
      "source": [
        "list1 =[1,2,3,4,5]\n",
        "print(list1)\n",
        "print(list1[0])"
      ],
      "execution_count": 0,
      "outputs": [
        {
          "output_type": "stream",
          "text": [
            "[1, 2, 3, 4, 5]\n",
            "1\n"
          ],
          "name": "stdout"
        }
      ]
    },
    {
      "cell_type": "code",
      "metadata": {
        "id": "WLU5dGrH8xBo",
        "colab_type": "code",
        "outputId": "e78d84e2-7c44-4055-f5f7-5806f4bd8963",
        "colab": {
          "base_uri": "https://localhost:8080/",
          "height": 34
        }
      },
      "source": [
        "list2=[\"nil\",\"deva\"]\n",
        "for x  in list2:\n",
        "  print(x,end=\" \")"
      ],
      "execution_count": 0,
      "outputs": [
        {
          "output_type": "stream",
          "text": [
            "nil deva "
          ],
          "name": "stdout"
        }
      ]
    },
    {
      "cell_type": "code",
      "metadata": {
        "id": "PuttkACI-2h6",
        "colab_type": "code",
        "outputId": "95a1b1f7-57b8-4cee-b936-c83951325b35",
        "colab": {
          "base_uri": "https://localhost:8080/",
          "height": 69
        }
      },
      "source": [
        "lst1=[1,2,3,4,5,6,7]\n",
        "for x in lst1:\n",
        "  print(x,end=\" \")\n",
        "  \n",
        "print()\n",
        "print(lst1[3:5])\n",
        "print(lst1[:6])"
      ],
      "execution_count": 0,
      "outputs": [
        {
          "output_type": "stream",
          "text": [
            "1 2 3 4 5 6 7 \n",
            "[4, 5]\n",
            "[1, 2, 3, 4, 5, 6]\n"
          ],
          "name": "stdout"
        }
      ]
    },
    {
      "cell_type": "code",
      "metadata": {
        "id": "fRkCdE2kBh7x",
        "colab_type": "code",
        "outputId": "ab84925c-7a92-4bc5-c935-07c1d4bd056b",
        "colab": {
          "base_uri": "https://localhost:8080/",
          "height": 86
        }
      },
      "source": [
        "lst2=[1,2,3,4,5,6,7]\n",
        "for x in lst2:\n",
        "  print(x,end=\" \")\n",
        "  \n",
        "  \n",
        "print()\n",
        "print(lst2[1:-1])\n",
        "print(lst2[::2])\n",
        "print(lst2[-2])"
      ],
      "execution_count": 0,
      "outputs": [
        {
          "output_type": "stream",
          "text": [
            "1 2 3 4 5 6 7 \n",
            "[2, 3, 4, 5, 6]\n",
            "[1, 3, 5, 7]\n",
            "6\n"
          ],
          "name": "stdout"
        }
      ]
    },
    {
      "cell_type": "code",
      "metadata": {
        "id": "N40iOU1yKd_W",
        "colab_type": "code",
        "colab": {}
      },
      "source": [
        "def linearsearch(a,taritem):\n",
        "  flag=0\n",
        "  for i in range(len(a)):\n",
        "    if a[i]==taritem:\n",
        "      flag=1\n",
        "      break\n",
        "    if(flag!=0):\n",
        "        print(\"target item is flag\")\n",
        "    else:\n",
        "      print(\"target item not foud\")\n",
        "    \n",
        "a=[1,3,4,5,6,78,87,1]\n",
        "linearsearch(a,6)"
      ],
      "execution_count": 0,
      "outputs": []
    },
    {
      "cell_type": "code",
      "metadata": {
        "id": "2WujaQD1iBB_",
        "colab_type": "code",
        "outputId": "a07fb9ec-8c8a-44e2-d6a5-a0577ab78b66",
        "colab": {
          "base_uri": "https://localhost:8080/",
          "height": 34
        }
      },
      "source": [
        "def linearexample(a,taritem):\n",
        "  for i in range(len(a)):\n",
        "    if a[i]==taritem:\n",
        "      print(i,end=\" \")\n",
        "     \n",
        "    \n",
        "a=[1,2,3,4,5,6,7]\n",
        "linearexample(a,5)\n",
        "    \n",
        "    \n"
      ],
      "execution_count": 0,
      "outputs": [
        {
          "output_type": "stream",
          "text": [
            "4 "
          ],
          "name": "stdout"
        }
      ]
    },
    {
      "cell_type": "code",
      "metadata": {
        "id": "hOygz9_P8BWW",
        "colab_type": "code",
        "outputId": "06a0f5ba-52db-4b13-b44b-f3b7cd6c420a",
        "colab": {
          "base_uri": "https://localhost:8080/",
          "height": 34
        }
      },
      "source": [
        "def linearexample2(a,taritem):\n",
        "  for i in range(len(a)):\n",
        "    if a[i]==taritem:\n",
        "      j=0\n",
        "      while j!=i+1:\n",
        "        print(\"!\",end=\" \")\n",
        "        j=j+1\n",
        "      print(end=\" \")\n",
        "      \n",
        "      \n",
        "a=[1,2,3,4,5,6,7,8,9]\n",
        "linearexample2(a,5)"
      ],
      "execution_count": 0,
      "outputs": [
        {
          "output_type": "stream",
          "text": [
            "! ! ! ! !  "
          ],
          "name": "stdout"
        }
      ]
    }
  ]
}