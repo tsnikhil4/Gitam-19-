{
  "nbformat": 4,
  "nbformat_minor": 0,
  "metadata": {
    "colab": {
      "name": "pyton3.ipynb",
      "version": "0.3.2",
      "provenance": []
    },
    "kernelspec": {
      "name": "python3",
      "display_name": "Python 3"
    }
  },
  "cells": [
    {
      "cell_type": "code",
      "metadata": {
        "id": "6DEW6Rmw-a4m",
        "colab_type": "code",
        "colab": {
          "base_uri": "https://localhost:8080/",
          "height": 34
        },
        "outputId": "9f278615-051d-4920-c768-c4ef750c2158"
      },
      "source": [
        "def sumofdigits(str):\n",
        "  sum=0\n",
        "  lst=list(str)\n",
        "  for x in range(len(lst)):\n",
        "    if  ord(lst[x])>=48 and ord(lst[x])<=57:\n",
        "      sum=sum+ord(lst[x])-48\n",
        "      \n",
        "  return sum\n",
        "\n",
        "sumofdigits(\"application1819\")"
      ],
      "execution_count": 5,
      "outputs": [
        {
          "output_type": "execute_result",
          "data": {
            "text/plain": [
              "19"
            ]
          },
          "metadata": {
            "tags": []
          },
          "execution_count": 5
        }
      ]
    },
    {
      "cell_type": "code",
      "metadata": {
        "id": "aGFEiob3DeXd",
        "colab_type": "code",
        "colab": {
          "base_uri": "https://localhost:8080/",
          "height": 34
        },
        "outputId": "991e5f16-7df1-4215-97c2-8521d9481f6b"
      },
      "source": [
        "def sumofevendigits(str):\n",
        "  sum=0\n",
        "  lst=list(str)\n",
        "  for x in range(len(lst)):\n",
        "    if ord(lst[x])>=48 and ord(lst[x])<=57:\n",
        "      ac=ord(lst[x])-48\n",
        "      if(ac%2==0):\n",
        "        sum=sum+ac\n",
        "        \n",
        "  return sum\n",
        "      \n",
        "print(sumofevendigits(\"1445\"))"
      ],
      "execution_count": 9,
      "outputs": [
        {
          "output_type": "stream",
          "text": [
            "8\n"
          ],
          "name": "stdout"
        }
      ]
    },
    {
      "cell_type": "code",
      "metadata": {
        "id": "y5sy7VoeIj_r",
        "colab_type": "code",
        "colab": {}
      },
      "source": [
        ""
      ],
      "execution_count": 0,
      "outputs": []
    },
    {
      "cell_type": "code",
      "metadata": {
        "id": "8BKXkaFSJU8P",
        "colab_type": "code",
        "colab": {}
      },
      "source": [
        ""
      ],
      "execution_count": 0,
      "outputs": []
    },
    {
      "cell_type": "code",
      "metadata": {
        "id": "2FztRPHHJVm4",
        "colab_type": "code",
        "colab": {}
      },
      "source": [
        ""
      ],
      "execution_count": 0,
      "outputs": []
    }
  ]
}