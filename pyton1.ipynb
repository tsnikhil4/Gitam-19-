{
  "nbformat": 4,
  "nbformat_minor": 0,
  "metadata": {
    "colab": {
      "name": "pyton1.ipynb",
      "version": "0.3.2",
      "provenance": []
    },
    "kernelspec": {
      "name": "python3",
      "display_name": "Python 3"
    }
  },
  "cells": [
    {
      "cell_type": "code",
      "metadata": {
        "id": "VIIWkwP634Z1",
        "colab_type": "code",
        "outputId": "8961e7f2-3b7a-425d-a7db-0e66b08e47bc",
        "colab": {
          "base_uri": "https://localhost:8080/",
          "height": 52
        }
      },
      "source": [
        "x=int(input(\"enter a number\"))\n",
        "sum=0\n",
        "while(x!=0):\n",
        "  r=x%10\n",
        "  x=x//10\n",
        "  if(r%2==0):\n",
        "    sum=sum+r\n",
        "    \n",
        "print(sum)"
      ],
      "execution_count": 0,
      "outputs": [
        {
          "output_type": "stream",
          "text": [
            "enter a number1213\n",
            "2\n"
          ],
          "name": "stdout"
        }
      ]
    },
    {
      "cell_type": "code",
      "metadata": {
        "id": "zLMby7e05q3h",
        "colab_type": "code",
        "outputId": "6ef1436c-0dfb-405e-c54f-1e371035f98a",
        "colab": {
          "base_uri": "https://localhost:8080/",
          "height": 104
        }
      },
      "source": [
        "x=int(input(\"enter a number\"))\n",
        "while(x!=0):\n",
        "  r=x%10\n",
        "  x=x//10\n",
        "  if(r==0):\n",
        "    print(\"zero\")\n",
        "  elif(r==1):\n",
        "    print(\"one\")\n",
        "  elif(r==2):\n",
        "    print(\"two\")\n",
        "  elif(r==3):\n",
        "    print(\"three\")\n",
        "  elif(r==4):\n",
        "    print(\"four\")\n",
        "  elif(r==5):\n",
        "    print(\"five\")\n",
        "  elif(r==6):\n",
        "    print(\"six\")\n",
        "  elif (r==7):\n",
        "    print(\"seven\")\n",
        "  elif(r==8):\n",
        "    print(\"eight\")\n",
        "  else:\n",
        "    print(\"nine\")\n",
        "             "
      ],
      "execution_count": 0,
      "outputs": [
        {
          "output_type": "stream",
          "text": [
            "enter a number1234\n",
            "four\n",
            "three\n",
            "two\n",
            "one\n"
          ],
          "name": "stdout"
        }
      ]
    },
    {
      "cell_type": "code",
      "metadata": {
        "id": "sN9G6tlTA0JI",
        "colab_type": "code",
        "colab": {}
      },
      "source": [
        "x=int(input(\"enter first number\"))\n",
        "y=int(input(\"ener secund number\"))\n",
        "z=int(input(\"enter third number\"))\n",
        "count=0\n",
        "while(y!=z):\n",
        "  buffer=y\n",
        "  while(y!=0):\n",
        "    r=y%10\n",
        "  if(r==x):\n",
        "        count=count+1\n",
        "        y=y//10\n",
        "    y=buffer\n",
        "     y=y+1\n",
        "\n",
        "print(count)\n",
        "  "
      ],
      "execution_count": 0,
      "outputs": []
    },
    {
      "cell_type": "code",
      "metadata": {
        "id": "TUPLAb5FYY9f",
        "colab_type": "code",
        "outputId": "f14aca55-747c-4656-8aa2-6682084ff81e",
        "colab": {
          "base_uri": "https://localhost:8080/",
          "height": 52
        }
      },
      "source": [
        "def printNaturalNumbers(n):\n",
        "  count=1\n",
        "  while(count<=n):\n",
        "    print(count,end=\" \")\n",
        "    count=count+1\n",
        "  print()\n",
        "  return\n",
        "\n",
        "  \n",
        "printNaturalNumbers(9)\n",
        "printNaturalNumbers(15)"
      ],
      "execution_count": 0,
      "outputs": [
        {
          "output_type": "stream",
          "text": [
            "1 2 3 4 5 6 7 8 9 \n",
            "1 2 3 4 5 6 7 8 9 10 11 12 13 14 15 \n"
          ],
          "name": "stdout"
        }
      ]
    },
    {
      "cell_type": "code",
      "metadata": {
        "id": "n4Jd1zpqgo57",
        "colab_type": "code",
        "outputId": "63f0567d-ef98-4ee5-bd36-0b122f43cac5",
        "colab": {
          "base_uri": "https://localhost:8080/",
          "height": 52
        }
      },
      "source": [
        "def findfact(n):\n",
        "  fact= 1\n",
        "  while(n!=0):\n",
        "       fact=fact*n\n",
        "       n=n-1\n",
        "  return fact\n",
        "\n",
        "        \n",
        "print(findfact(4))\n",
        "print(findfact(5))        "
      ],
      "execution_count": 0,
      "outputs": [
        {
          "output_type": "stream",
          "text": [
            "24\n",
            "120\n"
          ],
          "name": "stdout"
        }
      ]
    },
    {
      "cell_type": "code",
      "metadata": {
        "id": "6ZzCrFA7lJKl",
        "colab_type": "code",
        "outputId": "134b09b0-36b2-4a10-c5b8-cc0eba089b5c",
        "colab": {
          "base_uri": "https://localhost:8080/",
          "height": 323
        }
      },
      "source": [
        "def countpalindrome(n1,n2):\n",
        "  cnt=0\n",
        "  \n",
        "  \n",
        "  \n",
        "  \n",
        "  return cnt\n",
        "\n",
        "\n",
        "print(countpalindrome(10,30))"
      ],
      "execution_count": 0,
      "outputs": [
        {
          "output_type": "error",
          "ename": "UnboundLocalError",
          "evalue": "ignored",
          "traceback": [
            "\u001b[0;31m---------------------------------------------------------------------------\u001b[0m",
            "\u001b[0;31mUnboundLocalError\u001b[0m                         Traceback (most recent call last)",
            "\u001b[0;32m<ipython-input-73-317751098272>\u001b[0m in \u001b[0;36m<module>\u001b[0;34m()\u001b[0m\n\u001b[1;32m     17\u001b[0m \u001b[0;34m\u001b[0m\u001b[0m\n\u001b[1;32m     18\u001b[0m \u001b[0;34m\u001b[0m\u001b[0m\n\u001b[0;32m---> 19\u001b[0;31m \u001b[0mprint\u001b[0m\u001b[0;34m(\u001b[0m\u001b[0mcountpalindrome\u001b[0m\u001b[0;34m(\u001b[0m\u001b[0;36m10\u001b[0m\u001b[0;34m,\u001b[0m\u001b[0;36m30\u001b[0m\u001b[0;34m)\u001b[0m\u001b[0;34m)\u001b[0m\u001b[0;34m\u001b[0m\u001b[0;34m\u001b[0m\u001b[0m\n\u001b[0m",
            "\u001b[0;32m<ipython-input-73-317751098272>\u001b[0m in \u001b[0;36mcountpalindrome\u001b[0;34m(n1, n2)\u001b[0m\n\u001b[1;32m      6\u001b[0m     \u001b[0;32mwhile\u001b[0m\u001b[0;34m(\u001b[0m\u001b[0mt\u001b[0m\u001b[0;34m>\u001b[0m\u001b[0;36m0\u001b[0m\u001b[0;34m)\u001b[0m\u001b[0;34m:\u001b[0m\u001b[0;34m\u001b[0m\u001b[0;34m\u001b[0m\u001b[0m\n\u001b[1;32m      7\u001b[0m       \u001b[0mr\u001b[0m\u001b[0;34m=\u001b[0m\u001b[0mt\u001b[0m\u001b[0;34m%\u001b[0m\u001b[0;36m10\u001b[0m\u001b[0;34m\u001b[0m\u001b[0;34m\u001b[0m\u001b[0m\n\u001b[0;32m----> 8\u001b[0;31m       \u001b[0ms\u001b[0m\u001b[0;34m=\u001b[0m\u001b[0;34m(\u001b[0m\u001b[0ms\u001b[0m\u001b[0;34m*\u001b[0m\u001b[0;36m10\u001b[0m\u001b[0;34m)\u001b[0m\u001b[0;34m+\u001b[0m\u001b[0mr\u001b[0m\u001b[0;34m\u001b[0m\u001b[0;34m\u001b[0m\u001b[0m\n\u001b[0m\u001b[1;32m      9\u001b[0m       \u001b[0mt\u001b[0m\u001b[0;34m=\u001b[0m\u001b[0mt\u001b[0m\u001b[0;34m//\u001b[0m\u001b[0;36m10\u001b[0m\u001b[0;34m\u001b[0m\u001b[0;34m\u001b[0m\u001b[0m\n\u001b[1;32m     10\u001b[0m   \u001b[0;32mif\u001b[0m\u001b[0;34m(\u001b[0m\u001b[0ms\u001b[0m\u001b[0;34m==\u001b[0m\u001b[0mn\u001b[0m\u001b[0;34m)\u001b[0m\u001b[0;34m:\u001b[0m\u001b[0;34m\u001b[0m\u001b[0;34m\u001b[0m\u001b[0m\n",
            "\u001b[0;31mUnboundLocalError\u001b[0m: local variable 's' referenced before assignment"
          ]
        }
      ]
    }
  ]
}